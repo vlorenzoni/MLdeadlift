{
 "cells": [
  {
   "cell_type": "markdown",
   "metadata": {},
   "source": [
    "# Helper functions for plotting various statistics about the mocap data."
   ]
  },
  {
   "cell_type": "code",
   "execution_count": null,
   "metadata": {},
   "outputs": [],
   "source": [
    "import matplotlib\n",
    "import matplotlib.pyplot as plt\n",
    "import seaborn as sns\n",
    "\n",
    "import pandas as pd\n",
    "import numpy as np"
   ]
  },
  {
   "cell_type": "code",
   "execution_count": null,
   "metadata": {},
   "outputs": [],
   "source": [
    "# Set the default figure sizes.\n",
    "#\n",
    "matplotlib.rc('figure', figsize=(15, 7))\n",
    "sns.set(rc={'figure.figsize':(15,7)})"
   ]
  },
  {
   "cell_type": "code",
   "execution_count": null,
   "metadata": {},
   "outputs": [],
   "source": [
    "def basic_example(df):\n",
    "    '''\n",
    "        Basic example of how to work with the data from the passed in dataframe.\n",
    "        NOTE: This is not meant to present ANY meaningful information.\n",
    "    '''\n",
    "\n",
    "    # Slice out data for spine markers on the x,y,z axis.\n",
    "    #\n",
    "    spine_0 = df.loc[:, \"spine_0_x\":\"spine_0_z\"]\n",
    "    spine_1 = df.loc[:, \"spine_1_x\":\"spine_1_z\"]\n",
    "    spine_2 = df.loc[:, \"spine_2_x\":\"spine_2_z\"]\n",
    "    spine_3 = df.loc[:, \"spine_3_x\":\"spine_3_z\"]\n",
    "\n",
    "    # Form a meaningless plot to show how data can be displayed.\n",
    "    #\n",
    "    fig, ax = plt.subplots(1,1, figsize=(15, 8))\n",
    "    spine_0.plot(ax=ax)\n",
    "    spine_1.plot(ax=ax)\n",
    "    spine_2.plot(ax=ax)\n",
    "    spine_3.plot(ax=ax)\n",
    "    plt.show()\n",
    "\n",
    "    # Basic plotting functions\n",
    "    #\n",
    "    plt.plot(spine_0.mean(), marker='.', linewidth=3.0, markersize=15, linestyle='--')\n",
    "    plt.plot(spine_1.mean())\n",
    "    plt.plot(spine_2.mean())\n",
    "    plt.plot(spine_3.mean())\n",
    "    plt.show()\n",
    "\n",
    "    # Just look at a single axis value.\n",
    "    #\n",
    "    spines = [spine_0, spine_1, spine_2, spine_3]\n",
    "    z_axis = []\n",
    "    for s in spines:\n",
    "        z_axis.append(s.mean().values[-1])  \n",
    "    plt.plot(np.arange(0,len(spines)), z_axis, marker='.', markersize=20, label='z-axis')\n",
    "    plt.legend()\n",
    "    plt.show()\n",
    "\n",
    "    # spine_0.boxplot()\n"
   ]
  }
 ],
 "metadata": {
  "kernelspec": {
   "display_name": "Python (tensorflow_py35)",
   "language": "python",
   "name": "tensorflow_py35"
  },
  "language_info": {
   "codemirror_mode": {
    "name": "ipython",
    "version": 3
   },
   "file_extension": ".py",
   "mimetype": "text/x-python",
   "name": "python",
   "nbconvert_exporter": "python",
   "pygments_lexer": "ipython3",
   "version": "3.5.4"
  }
 },
 "nbformat": 4,
 "nbformat_minor": 2
}
