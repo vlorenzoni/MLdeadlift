{
 "cells": [
  {
   "cell_type": "markdown",
   "metadata": {},
   "source": [
    "# Read in data and display basic information from participant(s)"
   ]
  },
  {
   "cell_type": "code",
   "execution_count": null,
   "metadata": {},
   "outputs": [],
   "source": [
    "import numpy as np\n",
    "import pandas as pd\n",
    "import datetime\n",
    "\n",
    "import os\n",
    "import sys\n",
    "\n",
    "import matplotlib\n",
    "import matplotlib.pyplot as plt\n",
    "import seaborn as sns\n",
    "\n",
    "\n",
    "# module_path = os.path.abspath(os.path.join('../utils'))\n",
    "# if module_path not in sys.path:\n",
    "#     sys.path.append(module_path)\n",
    "    \n",
    "import ipynb.fs.full.Data_utils as data_utils\n",
    "import ipynb.fs.full.Plotting_utils as plot_utils\n"
   ]
  },
  {
   "cell_type": "code",
   "execution_count": null,
   "metadata": {},
   "outputs": [],
   "source": [
    "# Set the default figure sizes.\n",
    "#\n",
    "matplotlib.rc('figure', figsize=(15, 7))\n",
    "sns.set(rc={'figure.figsize':(15,7)})"
   ]
  },
  {
   "cell_type": "code",
   "execution_count": null,
   "metadata": {},
   "outputs": [],
   "source": [
    "data_path = \"../data/Train\"\n",
    "data_df = data_utils.load_participant_data_from_path(data_path)"
   ]
  },
  {
   "cell_type": "code",
   "execution_count": null,
   "metadata": {},
   "outputs": [],
   "source": [
    "grouped_data = data_df.groupby(['participant', 'type'])\n",
    "grouped_data.mean()"
   ]
  },
  {
   "cell_type": "code",
   "execution_count": null,
   "metadata": {},
   "outputs": [],
   "source": [
    "# Create a dictionary that has keys based on the groupby above,\n",
    "# and each value is the dataframe.\n",
    "#\n",
    "data_dict = dict(list(grouped_data))\n",
    "for key in data_dict.keys():\n",
    "    print(key)"
   ]
  },
  {
   "cell_type": "code",
   "execution_count": null,
   "metadata": {
    "scrolled": false
   },
   "outputs": [],
   "source": [
    "# Example of how to work with the data and utility functions.\n",
    "# -----------------------------------------------------------\n",
    "#\n",
    "\n",
    "# Grab an experiment of interest.\n",
    "#\n",
    "df = data_dict[('jacob', 'good')]\n",
    "plot_utils.basic_example(df)\n"
   ]
  },
  {
   "cell_type": "code",
   "execution_count": null,
   "metadata": {},
   "outputs": [],
   "source": [
    "# Basic example of boxplots formed from the dataframe.\n",
    "# ----------------------------------------------------\n",
    "\n",
    "t = data_df.reset_index()\n",
    "fig, ax = plt.subplots(figsize=(17,15))\n",
    "t.boxplot(column=['spine_0_z', 'spine_1_z', 'spine_2_z', 'spine_3_z'], by=['participant', 'type'], ax=ax);"
   ]
  },
  {
   "cell_type": "markdown",
   "metadata": {},
   "source": [
    "## Load in data from a participant(s)"
   ]
  },
  {
   "cell_type": "code",
   "execution_count": null,
   "metadata": {},
   "outputs": [],
   "source": [
    "data_path = \"../data/Participants/user2\"\n",
    "user2_df = data_utils.load_participant_data_from_path(data_path)\n",
    "user2_df"
   ]
  },
  {
   "cell_type": "code",
   "execution_count": null,
   "metadata": {},
   "outputs": [],
   "source": [
    "data_path = \"../data/Participants/user4\"\n",
    "user4_df = data_utils.load_participant_data_from_path(data_path)\n",
    "user4_df"
   ]
  },
  {
   "cell_type": "code",
   "execution_count": null,
   "metadata": {},
   "outputs": [],
   "source": []
  }
 ],
 "metadata": {
  "kernelspec": {
   "display_name": "Python (tensorflow_py35)",
   "language": "python",
   "name": "tensorflow_py35"
  },
  "language_info": {
   "codemirror_mode": {
    "name": "ipython",
    "version": 3
   },
   "file_extension": ".py",
   "mimetype": "text/x-python",
   "name": "python",
   "nbconvert_exporter": "python",
   "pygments_lexer": "ipython3",
   "version": "3.5.4"
  }
 },
 "nbformat": 4,
 "nbformat_minor": 2
}
