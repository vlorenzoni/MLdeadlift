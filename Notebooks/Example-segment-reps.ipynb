{
 "cells": [
  {
   "cell_type": "markdown",
   "metadata": {},
   "source": [
    "# Look at \"good\" and \"bad\" reps performed as examples."
   ]
  },
  {
   "cell_type": "code",
   "execution_count": null,
   "metadata": {},
   "outputs": [],
   "source": [
    "import pandas as pd\n",
    "import numpy as np\n",
    "\n",
    "import scipy.signal as scisig\n",
    "from scipy.stats import norm\n",
    "from scipy.signal import butter, sosfreqz, sosfiltfilt, boxcar, savgol_filter, find_peaks\n",
    "from scipy.signal.signaltools import hilbert\n",
    "\n",
    "\n",
    "# module_path = os.path.abspath(os.path.join('../utils'))\n",
    "# if module_path not in sys.path:\n",
    "#     sys.path.append(module_path)\n",
    "\n",
    "import matplotlib.pyplot as plt\n",
    "import seaborn as sns\n",
    "    \n",
    "import ipynb.fs.full.Data_utils as data_utils\n",
    "import ipynb.fs.full.Plotting_utils as plot_utils\n",
    "\n",
    "from IPython.display import set_matplotlib_formats"
   ]
  },
  {
   "cell_type": "code",
   "execution_count": null,
   "metadata": {},
   "outputs": [],
   "source": [
    "# Set the default figure sizes.\n",
    "#\n",
    "plt.rc('figure', figsize=(15, 7))\n",
    "sns.set(rc={'figure.figsize':(15,7)})\n",
    "\n",
    "# Set figures to high resolution (2x)\n",
    "set_matplotlib_formats('retina')"
   ]
  },
  {
   "cell_type": "markdown",
   "metadata": {},
   "source": [
    "#### Begin data processing"
   ]
  },
  {
   "cell_type": "code",
   "execution_count": null,
   "metadata": {},
   "outputs": [],
   "source": [
    "data_path = \"./../data/Train\"\n",
    "data_df = data_utils.load_participant_data_from_path(data_path, debug=False)\n",
    "print(\"Indices names for multi-index df: \", data_df.index.names)\n",
    "# data_df"
   ]
  },
  {
   "cell_type": "code",
   "execution_count": null,
   "metadata": {},
   "outputs": [],
   "source": [
    "# Group the data based on various interests. \n",
    "# Let's separate the data into each participants 'good' and 'bad' movements.\n",
    "#\n",
    "# df = data_df.xs(['jacob', 'good', 'combined']) # slicing.\n",
    "\n",
    "# Group data by 'type', which is 'good', or 'bad' repititions.\n",
    "#\n",
    "group_type = data_df.groupby('type')"
   ]
  },
  {
   "cell_type": "code",
   "execution_count": null,
   "metadata": {},
   "outputs": [],
   "source": [
    "# Separate out the good and bad for our known repitions (i.e. asked to perform good or bad repititions).\n",
    "#\n",
    "spine_dist_good_df = data_utils.form_spine_distance(group_type.get_group('good'))\n",
    "spine_dist_bad_df = data_utils.form_spine_distance(group_type.get_group('bad'))\n"
   ]
  },
  {
   "cell_type": "markdown",
   "metadata": {},
   "source": [
    "### Look at the good repititions for Valerio"
   ]
  },
  {
   "cell_type": "code",
   "execution_count": null,
   "metadata": {},
   "outputs": [],
   "source": [
    "\n",
    "fig, ax = plt.subplots(4,1)\n",
    "spine_dist_good_df.xs('valerio').iloc[:-10].plot(subplots=True, ax=ax)\n",
    "ax[0].set_title(\"Spine marker distances - good repititions - Valerio\")\n",
    "plt.tight_layout()\n",
    "plt.show()\n",
    "\n",
    "_, ax = plt.subplots(1, 1)\n",
    "group_type.get_group('good').xs('valerio')['barbell_left_z'].plot(ax=ax, label=\"left marker\");\n",
    "group_type.get_group('good').xs('valerio')['barbell_right_z'].plot(ax=ax, label=\"right marker\")\n",
    "ax.set_title(\"Barbell markers left and right (z-axis)\")\n",
    "plt.legend();\n",
    "plt.title(\"Barbell z-axis\");"
   ]
  },
  {
   "cell_type": "markdown",
   "metadata": {},
   "source": [
    "### Good repititions for Jacob"
   ]
  },
  {
   "cell_type": "code",
   "execution_count": null,
   "metadata": {},
   "outputs": [],
   "source": [
    "# Look at the good distances for Jacob.\n",
    "#\n",
    "fig, ax = plt.subplots(4,1)\n",
    "spine_dist_good_df.xs('jacob').iloc[:-10].plot(subplots=True, ax=ax)\n",
    "ax[0].set_title(\"Spine marker distances - good repititions - Jacob\")\n",
    "plt.show()\n",
    "\n",
    "group_type.get_group('good').xs('jacob')['barbell_left_z'].plot();\n",
    "group_type.get_group('good').xs('jacob')['barbell_right_z'].plot();\n",
    "plt.title(\"Barbell z-axis\");"
   ]
  },
  {
   "cell_type": "markdown",
   "metadata": {},
   "source": [
    "### Bad repititions for Valerio"
   ]
  },
  {
   "cell_type": "code",
   "execution_count": null,
   "metadata": {},
   "outputs": [],
   "source": [
    "_slice = slice(0,2500)\n",
    "spine_dist_bad_df.xs('valerio').iloc[_slice].plot(subplots=True);\n",
    "plt.show()\n",
    "# plt.tight_layout()\n",
    "group_type.get_group('bad').xs('valerio')['barbell_left_z'].iloc[_slice].plot(label='barbell left');\n",
    "group_type.get_group('bad').xs('valerio')['barbell_right_z'].iloc[_slice].plot(label='barbell right');\n",
    "plt.title(\"Barbell z-axis\");\n",
    "plt.legend()"
   ]
  },
  {
   "cell_type": "markdown",
   "metadata": {},
   "source": [
    "### Bad repititions for Jacob"
   ]
  },
  {
   "cell_type": "code",
   "execution_count": null,
   "metadata": {},
   "outputs": [],
   "source": [
    "spine_dist_bad_df.xs('jacob').iloc[_slice].plot(subplots=True);\n",
    "plt.show()\n",
    "\n",
    "group_type.get_group('bad').xs('jacob')['barbell_left_z'].iloc[_slice].plot(label='barbell left')\n",
    "group_type.get_group('bad').xs('jacob')['barbell_right_z'].iloc[_slice].plot(label='barbell right')\n",
    "plt.legend()"
   ]
  },
  {
   "cell_type": "markdown",
   "metadata": {},
   "source": [
    "### Side-by-side comparison of good and bad repititions for segment lengths of the spine."
   ]
  },
  {
   "cell_type": "code",
   "execution_count": null,
   "metadata": {},
   "outputs": [],
   "source": [
    "fig, ax = plt.subplots(3, 2, figsize=(18, 10), sharey=True)\n",
    "ax[0][0].set_title('good');\n",
    "ax[0][1].set_title('bad');\n",
    "\n",
    "# segment 0\n",
    "#\n",
    "spine_dist_good_df.xs('jacob').apply(data_utils.normalize)['segment0'].plot(ax=ax[0][0], color='dodgerblue')\n",
    "spine_dist_bad_df.xs('jacob').apply(data_utils.normalize)['segment0'].plot(ax=ax[0][1], color='dodgerblue')\n",
    "ax[0][0].set_ylabel('seg. 0');\n",
    "\n",
    "# segment 1\n",
    "#\n",
    "spine_dist_good_df.xs('jacob').apply(data_utils.normalize)['segment1'].plot(ax=ax[1][0], color='orange')\n",
    "spine_dist_bad_df.xs('jacob').apply(data_utils.normalize)['segment1'].plot(ax=ax[1][1], color='orange')\n",
    "ax[1][0].set_ylabel('seg. 1');\n",
    "\n",
    "# segment 2\n",
    "#\n",
    "spine_dist_good_df.xs('jacob').apply(data_utils.normalize)['segment2'].plot(ax=ax[2][0], color='coral')\n",
    "spine_dist_bad_df.xs('jacob').apply(data_utils.normalize)['segment2'].plot(ax=ax[2][1], color='coral')\n",
    "ax[2][0].set_ylabel('seg. 2');\n",
    "\n"
   ]
  },
  {
   "cell_type": "markdown",
   "metadata": {},
   "source": [
    "### Locate individual repititions based on the barbell height\n",
    "Perform various filtering and smoothing operations to the data."
   ]
  },
  {
   "cell_type": "code",
   "execution_count": null,
   "metadata": {},
   "outputs": [],
   "source": [
    "\n",
    "\n",
    "# max_idx = 280\n",
    "# max_idx = 1000\n",
    "max_idx = -1\n",
    "\n",
    "# Get the \"raw\" data for the barbell path (i.e. no postprocessing)\n",
    "#\n",
    "raw = group_type.get_group('good').xs('jacob')['barbell_right_z'][:max_idx].values\n",
    "raw = data_utils.normalize(raw)\n",
    "# raw = data_utils.standardize(raw)\n",
    "\n",
    "# Gradient version of the barbell path.\n",
    "#\n",
    "grad = group_type.get_group('good').xs('jacob').apply(data_utils.normalize)['barbell_right_z'][:max_idx].agg('gradient')  \n",
    "grad = data_utils.normalize(np.gradient(grad))\n",
    "\n",
    "# Filtered version of the barbell path.\n",
    "#\n",
    "filtered = data_utils.butter_lowpass_filter(signal=raw, cutoff=5, fs=100, order=5)\n",
    "filtered = data_utils.normalize(filtered)\n",
    "\n",
    "\n",
    "# Smoothed (box car) version of the barbell path.\n",
    "#\n",
    "boxcar_raw = data_utils.normalize(data_utils.boxcar_smooth(raw, window=20))\n",
    "\n",
    "# Smoothed (savgol) version of the barbell path.\n",
    "#\n",
    "savgol_raw = data_utils.normalize(data_utils.savgol_smooth(raw, window=25, order=1))\n",
    "\n",
    "# Filtered (low-pass) and smoothed (savgol) version of the barbell path.\n",
    "#\n",
    "savgol_filtered = data_utils.savgol_smooth(filtered, window=11, order=1)\n",
    "\n",
    "# plt.plot(raw, label='raw')\n",
    "# plt.plot(grad, label='gradient')\n",
    "# plt.plot(filtered, label='filtered')\n",
    "# plt.plot(boxcar_raw, label='boxcar_raw')\n",
    "plt.plot(savgol_raw, label='savgol_raw')\n",
    "# plt.plot(savgol_filtered, label='savgol_filtered')\n",
    "\n",
    "# env = np.abs(hilbert(savgol_raw))\n",
    "# env = np.abs(hilbert(grad))\n",
    "env = np.abs(hilbert(raw))\n",
    "# env = (hilbert(filtered))\n",
    "# env = (hilbert(savgol_raw))\n",
    "# env = (hilbert(boxcar_raw))\n",
    "# square = (filtered > 0.10)\n",
    "square_pulse = (savgol_raw > 0.15)\n",
    "# square_pulse = (raw > 0.20)\n",
    "plt.plot(square_pulse)\n",
    "# square = (raw < 0.0)\n",
    "# plt.plot(-1*square)\n",
    "# plt.plot(env)\n",
    "plt.legend()"
   ]
  },
  {
   "cell_type": "markdown",
   "metadata": {},
   "source": [
    "### Find the peaks and valleys in the barbell path.\n",
    "A peak represents the top of the movement (i.e. barbell is at a maximum height), and a valley (aka trough) represents\n",
    "the lowest point of the barbell (should be the floor if performed correctly)."
   ]
  },
  {
   "cell_type": "code",
   "execution_count": null,
   "metadata": {},
   "outputs": [],
   "source": [
    "\n",
    "# Use the smoothed version of the barbell path to find peaks and valleys.\n",
    "#\n",
    "x = savgol_raw\n",
    "\n",
    "\n",
    "height=0\n",
    "peaks, _ = find_peaks(x, height=(0, height+1.1), prominence=0.2)\n",
    "height = np.min(x[peaks])\n",
    "plt.plot(x)\n",
    "plt.plot(peaks, x[peaks], \"x\", markersize=10)\n",
    "plt.plot(np.ones_like(x)*height, \"--\", color=\"gray\")\n",
    "plt.show()\n",
    "\n",
    "\n",
    "troughs, _ = find_peaks(-1*x, height=(-1, -0.0), prominence=0.2)\n",
    "raw_troughs, _ = find_peaks(-1*raw, height=(-1, -0.0), prominence=0.2)\n",
    "height = np.max(x[troughs])\n",
    "plt.plot(x)\n",
    "plt.plot(troughs, x[troughs], \"x\", markersize=10)\n",
    "plt.plot(np.ones_like(x)*height, \"--\", color=\"gray\")\n",
    "# plt.plot(raw)\n",
    "plt.show()"
   ]
  },
  {
   "cell_type": "markdown",
   "metadata": {},
   "source": [
    "### Demonstrate removing portions of the repitition based on barbell height.\n",
    "Here we remove all data that is below the largest valley, which means we remove all data that goes beyond the participants highest finishing point. This allows us to compare data in the spine that is only based on what was happening with the barbell within a specific range of motion (in this case the highest height of all finishing positions of the rep, to the top of the lift). For instance we could extend this to only look what is happening with the spine with the barbell between the knee and the hip by using the barbell height with respect to the knee and hip markers."
   ]
  },
  {
   "cell_type": "code",
   "execution_count": null,
   "metadata": {},
   "outputs": [],
   "source": [
    "print(\"Removing: \", np.max(x[troughs]))\n",
    "square_pulse = (x > np.max(x[troughs]))\n",
    "# square = (x > 0.01)\n",
    "plt.plot(square_pulse);\n",
    "plt.plot(x);"
   ]
  },
  {
   "cell_type": "code",
   "execution_count": null,
   "metadata": {},
   "outputs": [],
   "source": [
    "rep_idx = np.argwhere(square_pulse == 1)\n",
    "# plt.plot(x[rep_idx], alpha=0.5)\n",
    "\n",
    "# valid_reps_seg0 = normalize(spine_dist_good_df.xs('jacob')['dist_s0_s1'].iloc[rep_idx.ravel()].values)\n",
    "# plt.plot(valid_reps_seg0)\n",
    "\n",
    "valid_reps_seg0 = spine_dist_good_df.xs('jacob')['segment0'].iloc[rep_idx.ravel()].values\n",
    "valid_reps_seg1 = spine_dist_good_df.xs('jacob')['segment1'].iloc[rep_idx.ravel()].values\n",
    "valid_reps_seg2 = spine_dist_good_df.xs('jacob')['segment2'].iloc[rep_idx.ravel()].values\n",
    "\n",
    "# Rescale to a minimum value of zero.\n",
    "#\n",
    "valid_reps_seg0 = valid_reps_seg0 - np.min(valid_reps_seg0)\n",
    "valid_reps_seg1 = valid_reps_seg1 - np.min(valid_reps_seg1)\n",
    "valid_reps_seg2 = valid_reps_seg2 - np.min(valid_reps_seg2)\n",
    "\n",
    "_, ax = plt.subplots(1, 3, figsize=(20, 5), sharey=True, sharex=True)\n",
    "ax[0].plot(valid_reps_seg0, color='red')\n",
    "ax[0].set_title(\"Segment 0\")\n",
    "ax[1].plot(valid_reps_seg1, color='green')\n",
    "ax[1].set_title(\"Segment 1\")\n",
    "ax[2].plot(valid_reps_seg2, color='blue')\n",
    "ax[2].set_title(\"Segment 2\")\n",
    "plt.tight_layout()\n",
    "\n",
    "print(np.mean(valid_reps_seg0))\n",
    "print(np.mean(valid_reps_seg1))\n",
    "print(np.mean(valid_reps_seg2))"
   ]
  },
  {
   "cell_type": "code",
   "execution_count": null,
   "metadata": {},
   "outputs": [],
   "source": [
    "# Find the zero crossings of the gradient in the barbell path.\n",
    "# The odd zero's are the finish (or beginning) of the rep (i.e. barbell is on the floor)\n",
    "# The even zero's are at the maximum of the barbell height (i.e. standing position at the end of the rep)\n",
    "#\n",
    "total_slice = slice(0,3000, 1)\n",
    "plt.figure(figsize=(18,7))\n",
    "barbell_gradient = data_utils.standardize(np.gradient(x[total_slice]))\n",
    "plt.plot(barbell_gradient, marker='.', label='gradient')\n",
    "plt.plot(x[total_slice], label='barbell (z-axis)')\n",
    "plt.plot(square_pulse[total_slice], label='rep')\n",
    "plt.legend()\n",
    "\n",
    "### FIXME:\n",
    "### - Need to interpolate discrete signal to find zeros accurately.\n",
    "###\n",
    "# zero_crossings = np.argwhere((barbell_gradient <= 1e-2) & (barbell_gradient >= -1e-2))\n",
    "# zero_crossings = zero_crossings.ravel()\n",
    "# plt.plot(zero_crossings, np.zeros_like(zero_crossings), marker='.', markersize=15, linestyle='')\n",
    "# print(zero_crossings)\n",
    "\n"
   ]
  },
  {
   "cell_type": "code",
   "execution_count": null,
   "metadata": {},
   "outputs": [],
   "source": [
    "# Extract only the portion of the spine data that pertains to the movement of the barbell.\n",
    "# ----------------------------- \n",
    "\n",
    "idx = -1\n",
    "rep_cnt = 1\n",
    "reps_seg0_dict = {}\n",
    "reps_seg1_dict = {}\n",
    "reps_seg2_dict = {}\n",
    "\n",
    "# Loop through the entire square pulse for the barbell movement.\n",
    "# When the pulse is high, we know there is movement. \n",
    "# Otherwise we consider the barbell at rest, and we aren't interested\n",
    "# in what the spine is doing.\n",
    "#\n",
    "while idx < len(square_pulse[:3000])-1:\n",
    "    # Index into the 'square_pulse' array.\n",
    "    #\n",
    "    idx += 1\n",
    "    \n",
    "    # Start of a rep (i.e. rising edge)\n",
    "    #\n",
    "    if square_pulse[idx] == 1:\n",
    "        # Note the beginning index when the pulse is high (i.e. barbell is moving).\n",
    "        #\n",
    "        start = idx\n",
    "        \n",
    "        # Search for the corresponding end of the rep (i.e. falling edge)\n",
    "        #\n",
    "        while square_pulse[idx] != 0:\n",
    "            idx += 1\n",
    "            \n",
    "        # Note the end index when we have returned low (i.e. barbell is at rest)\n",
    "        #\n",
    "        end = idx\n",
    "        \n",
    "        # Grab the chunk of data from the markers that represent a segment on the spine\n",
    "        # over the start -> end of the rep.\n",
    "        #\n",
    "        key = 'rep'+str(rep_cnt)\n",
    "        reps_seg0_dict[key] = valid_reps_seg0[start:end]\n",
    "        reps_seg1_dict[key] = valid_reps_seg1[start:end]\n",
    "        reps_seg2_dict[key] = valid_reps_seg2[start:end]\n",
    "        \n",
    "        rep_cnt += 1\n",
    "        \n",
    "        # Plot the rep duration found from the square pulse, and the segment\n",
    "        # distance.\n",
    "        #\n",
    "        rep_data = valid_reps_seg0[start:end]\n",
    "        pulse = np.max(rep_data)*square_pulse[start:end] # Scale the value to sit at the peak.\n",
    "        plt.plot(range(start, end), pulse, color='black', linewidth=3.0)\n",
    "        plt.plot(range(start, end), rep_data, marker='.', markersize=5.0)\n",
    "        \n",
    "        continue\n"
   ]
  },
  {
   "cell_type": "code",
   "execution_count": null,
   "metadata": {},
   "outputs": [],
   "source": [
    "# Form the dataframes from the dictionaries that hold each individual rep for a given segment.\n",
    "# ---------------------------------\n",
    "\n",
    "# Need to form the dataframes below due to each column being different lengths.\n",
    "#\n",
    "# reps_seg0_df = pd.DataFrame({k:pd.Series(v) for k, v in reps_seg0_dict.items()})\n",
    "reps_seg0_df = pd.DataFrame.from_dict(reps_seg0_dict, orient='index').T  # More succinct\n",
    "reps_seg1_df = pd.DataFrame.from_dict(reps_seg1_dict, orient='index').T\n",
    "reps_seg2_df = pd.DataFrame.from_dict(reps_seg2_dict, orient='index').T\n",
    "\n",
    "# Reindex the column names so rep1 --> repN\n",
    "#\n",
    "reps_seg0_df = reps_seg0_df.reindex(sorted(reps_seg0_df.columns, key=lambda x: int(x[3:])), axis=1)\n",
    "reps_seg1_df = reps_seg1_df.reindex(sorted(reps_seg1_df.columns, key=lambda x: int(x[3:])), axis=1)\n",
    "reps_seg2_df = reps_seg2_df.reindex(sorted(reps_seg2_df.columns, key=lambda x: int(x[3:])), axis=1)\n",
    "\n"
   ]
  },
  {
   "cell_type": "code",
   "execution_count": null,
   "metadata": {},
   "outputs": [],
   "source": [
    "# Find the optimal bandwidth of the kernel density estimation of the underlying data.\n",
    "# Use cross-validation score (i.e. maximum likelihood) to find the optimal bandwidth\n",
    "# parameter.\n",
    "#\n",
    "from sklearn.neighbors import KernelDensity\n",
    "from sklearn.model_selection import GridSearchCV\n",
    "\n",
    "# 15-fold cross-validation\n",
    "k_folds = 15\n",
    "grid = GridSearchCV(KernelDensity(), {'bandwidth': np.linspace(0.1, 1.0, 50)}, cv=k_folds)\n",
    "\n",
    "grid.fit(reps_seg0_df.mean().values.reshape(-1, 1))\n",
    "seg0_bw = grid.best_params_['bandwidth']\n",
    "print(grid.best_params_)\n",
    "\n",
    "grid.fit(reps_seg1_df.mean().values.reshape(-1, 1))\n",
    "seg1_bw = grid.best_params_['bandwidth']\n",
    "print(grid.best_params_)\n",
    "\n",
    "grid.fit(reps_seg2_df.mean().values.reshape(-1, 1))\n",
    "seg2_bw = grid.best_params_['bandwidth']\n",
    "print(grid.best_params_)\n",
    "\n",
    "\n",
    "sns.kdeplot(reps_seg0_df.mean(), bw=seg0_bw, shade=True, color='blue', label='segment 0');\n",
    "sns.rugplot(reps_seg0_df.mean(), color='blue');\n",
    "sns.kdeplot(reps_seg1_df.mean(), bw=seg1_bw, shade=True, color='green', label='segment 1');\n",
    "sns.rugplot(reps_seg1_df.mean(), color='green');\n",
    "sns.kdeplot(reps_seg2_df.mean(), bw=seg2_bw, shade=True, color='red', label='segment 2');\n",
    "sns.rugplot(reps_seg2_df.mean(), color='red');\n",
    "plt.title(\"Distribution of segment means for good reps\")\n",
    "\n",
    "# sns.distplot(reps_seg0_df.mean(), kde=True, hist=False, rug=True)\n",
    "# sns.distplot(reps_seg1_df.mean(), kde=False, hist=False, rug=True)\n",
    "# sns.distplot(reps_seg2_df.mean(), kde=False, hist=False, rug=True)\n"
   ]
  }
 ],
 "metadata": {
  "kernelspec": {
   "display_name": "Python (tensorflow_py35)",
   "language": "python",
   "name": "tensorflow_py35"
  },
  "language_info": {
   "codemirror_mode": {
    "name": "ipython",
    "version": 3
   },
   "file_extension": ".py",
   "mimetype": "text/x-python",
   "name": "python",
   "nbconvert_exporter": "python",
   "pygments_lexer": "ipython3",
   "version": "3.5.4"
  }
 },
 "nbformat": 4,
 "nbformat_minor": 2
}
